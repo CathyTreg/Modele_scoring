{
 "cells": [
  {
   "cell_type": "code",
   "execution_count": null,
   "id": "895934d4-cb71-402a-a9ec-f32af504facc",
   "metadata": {},
   "outputs": [],
   "source": [
    "from sklearn.metrics import confusion_matrix\n",
    "import numpy as np\n",
    "\n",
    "def cout_metier(y_true, y_pred):\n",
    "    \"\"\"Cette fonction calcule le coût métier à partir de la matrice de confusion : 10*FN + FP.\"\"\"\n",
    "    tn, fp, fn, tp = confusion_matrix(y_true, y_pred).ravel()\n",
    "    return 10 * fn + fp\n",
    "\n",
    "def find_best_threshold(estimator, X, y):\n",
    "    \"\"\"Cette fonction trouve le seuil optimal en testant une gamme de seuils et en choisissant celui avec le score métier le plus bas.\"\"\"\n",
    "    thresholds = np.linspace(0, 1, 101)\n",
    "    best_threshold, best_score = 0, float('inf')\n",
    "    for threshold in thresholds:\n",
    "        y_pred = (estimator.predict_proba(X)[:, 1] >= threshold).astype(int)\n",
    "        score = cout_metier(y, y_pred)\n",
    "        if score < best_score:\n",
    "            best_threshold, best_score = threshold, score\n",
    "    return best_threshold, best_score"
   ]
  }
 ],
 "metadata": {
  "kernelspec": {
   "display_name": "Python 3 (ipykernel)",
   "language": "python",
   "name": "python3"
  },
  "language_info": {
   "codemirror_mode": {
    "name": "ipython",
    "version": 3
   },
   "file_extension": ".py",
   "mimetype": "text/x-python",
   "name": "python",
   "nbconvert_exporter": "python",
   "pygments_lexer": "ipython3",
   "version": "3.12.4"
  }
 },
 "nbformat": 4,
 "nbformat_minor": 5
}
